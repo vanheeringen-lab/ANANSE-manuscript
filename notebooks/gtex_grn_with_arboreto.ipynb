{
 "cells": [
  {
   "cell_type": "code",
   "execution_count": null,
   "metadata": {},
   "outputs": [],
   "source": [
    "import pandas as pd\n",
    "from arboreto.utils import load_tf_names\n",
    "from arboreto.algo import grnboost2\n",
    "\n",
    "from distributed import LocalCluster, Client\n",
    "\n",
    "import os"
   ]
  },
  {
   "cell_type": "markdown",
   "metadata": {},
   "source": [
    "# README\n",
    "\n",
    "This notebook contains the code used to create GRNBoost2 networks from GTEx data.\n",
    "\n",
    "The files `GTEx_Analysis_2017-06-05_v8_RNASeQCv1.1.9_gene_tpm.gct.gz` and `GTEx_Analysis_v8_Annotations_SampleAttributesDS.txt` can be downloaded from https://www.gtexportal.org/home/datasets.\n",
    "\n",
    "Set the paths to your directory below.\n",
    "\n",
    "The Python [arboreto](https://github.com/aertslab/arboreto) package needs to be installed.\n"
   ]
  },
  {
   "cell_type": "code",
   "execution_count": null,
   "metadata": {},
   "outputs": [],
   "source": [
    "PATH = \"./\""
   ]
  },
  {
   "cell_type": "code",
   "execution_count": null,
   "metadata": {},
   "outputs": [],
   "source": []
  },
  {
   "cell_type": "code",
   "execution_count": null,
   "metadata": {},
   "outputs": [],
   "source": [
    "%cd {PATH}"
   ]
  },
  {
   "cell_type": "code",
   "execution_count": null,
   "metadata": {},
   "outputs": [],
   "source": [
    "local_cluster = LocalCluster(n_workers=12,\n",
    "                                 threads_per_worker=2,\n",
    "                                 memory_limit=8e9)\n",
    "custom_client = Client(local_cluster)\n"
   ]
  },
  {
   "cell_type": "code",
   "execution_count": null,
   "metadata": {},
   "outputs": [],
   "source": [
    "def download_tf_names():\n",
    "    tf_names = pd.read_excel(\n",
    "        \"https://www.biorxiv.org/content/biorxiv/early/2020/12/07/2020.10.28.359232/DC1/embed/media-1.xlsx\",\n",
    "        engine='openpyxl', sheet_name=1)\n",
    "    tf_names = tf_names.loc[tf_names[\"Pseudogene\"].isnull(), \"HGNC approved gene symbol\"].values\n",
    "    return list(tf_names)"
   ]
  },
  {
   "cell_type": "code",
   "execution_count": null,
   "metadata": {},
   "outputs": [],
   "source": [
    "feather_file = \"GTEx_Analysis_2017-06-05_v8_RNASeQCv1.1.9_gene_tpm.feather\"\n",
    "if not os.path.exists(feather_file):\n",
    "    print(\"reading txt file and creating feather for fast access\")\n",
    "    GTEX = \"GTEx_Analysis_2017-06-05_v8_RNASeQCv1.1.9_gene_tpm.gct.gz\"\n",
    "    ex_matrix = pd.read_csv(GTEX, sep='\\t', skiprows=2)\n",
    "    ex_matrix = ex_matrix.drop(columns=[\"Name\"])\n",
    "    ex_matrix.to_feather(feather_file)\n",
    "else:\n",
    "    print(\"reading feather file\")\n",
    "    ex_matrix = pd.read_feather(feather_file)\n",
    "ex_matrix = ex_matrix.set_index(\"Description\")\n",
    "ex_matrix = ex_matrix.groupby(ex_matrix.index).mean()\n",
    "\n",
    "ex_matrix = ex_matrix.T\n",
    "\n",
    "gene_names = list(ex_matrix.columns)\n",
    "assert ex_matrix.shape[1] == len(gene_names)"
   ]
  },
  {
   "cell_type": "code",
   "execution_count": null,
   "metadata": {},
   "outputs": [],
   "source": [
    "ananse_tissues = [\n",
    "    \"Adrenal Gland\", \n",
    "    \"Bone Marrow\", \n",
    "    \"Brain\",\n",
    "    \"Cervix Uteri\", \n",
    "    \"Colon\", \n",
    "    \"Esophagus\", \n",
    "    \"Heart\", \n",
    "    \"Liver\", \n",
    "    \"Lung\", \n",
    "    \"Ovary\", \n",
    "    \"Pancreas\", \n",
    "    \"Prostate\", \n",
    "    \"Muscle\", \n",
    "    \"Skin\", \n",
    "    \"Small Intestine\", \n",
    "    \"Spleen\",\n",
    "    \"Stomach\"\n",
    "]"
   ]
  },
  {
   "cell_type": "code",
   "execution_count": null,
   "metadata": {},
   "outputs": [],
   "source": [
    "metadata = pd.read_table(\"GTEx_Analysis_v8_Annotations_SampleAttributesDS.txt\")"
   ]
  },
  {
   "cell_type": "code",
   "execution_count": null,
   "metadata": {},
   "outputs": [],
   "source": [
    "metacount = metadata.groupby(\"SMTS\").count()\n",
    "metacount"
   ]
  },
  {
   "cell_type": "code",
   "execution_count": null,
   "metadata": {},
   "outputs": [],
   "source": [
    "tf_names = download_tf_names()"
   ]
  },
  {
   "cell_type": "code",
   "execution_count": null,
   "metadata": {},
   "outputs": [],
   "source": [
    "for tissue in ananse_tissues:\n",
    "    if os.path.exists(f\"{PATH}/gtex.{tissue}.grnboost2.feather\"):\n",
    "        print(\"skipping\", tissue, \"already done\")\n",
    "        continue\n",
    "    print(tissue)\n",
    "    try:\n",
    "        samples = metadata.loc[metadata[\"SMTS\"] == tissue, \"SAMPID\"].values\n",
    "        samples = [s for s in samples if s in ex_matrix.index]\n",
    "        network = grnboost2(expression_data=ex_matrix.loc[samples].values,\n",
    "                                gene_names=gene_names,  # specify the gene_names\n",
    "                                tf_names=tf_names, \n",
    "                            client_or_address=custom_client)\n",
    "        network.reset_index().to_feather(f\"{PATH}/gtex.{tissue}grnboost2.feather\")\n",
    "    except:\n",
    "        print(f\"{tissue} failed\")"
   ]
  },
  {
   "cell_type": "code",
   "execution_count": null,
   "metadata": {},
   "outputs": [],
   "source": [
    "custom_client.close()\n",
    "local_cluster.close()"
   ]
  }
 ],
 "metadata": {
  "kernelspec": {
   "display_name": "Python [conda env:arboreto]",
   "language": "python",
   "name": "conda-env-arboreto-py"
  },
  "language_info": {
   "codemirror_mode": {
    "name": "ipython",
    "version": 3
   },
   "file_extension": ".py",
   "mimetype": "text/x-python",
   "name": "python",
   "nbconvert_exporter": "python",
   "pygments_lexer": "ipython3",
   "version": "3.9.1"
  }
 },
 "nbformat": 4,
 "nbformat_minor": 4
}
