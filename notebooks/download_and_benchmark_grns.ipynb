{
 "cells": [
  {
   "cell_type": "code",
   "execution_count": 1,
   "id": "a6a87e51",
   "metadata": {},
   "outputs": [
    {
     "data": {
      "application/javascript": [
       "\n",
       "            setTimeout(function() {\n",
       "                var nbb_cell_id = 1;\n",
       "                var nbb_unformatted_code = \"%load_ext nb_black\";\n",
       "                var nbb_formatted_code = \"%load_ext nb_black\";\n",
       "                var nbb_cells = Jupyter.notebook.get_cells();\n",
       "                for (var i = 0; i < nbb_cells.length; ++i) {\n",
       "                    if (nbb_cells[i].input_prompt_number == nbb_cell_id) {\n",
       "                        if (nbb_cells[i].get_text() == nbb_unformatted_code) {\n",
       "                             nbb_cells[i].set_text(nbb_formatted_code);\n",
       "                        }\n",
       "                        break;\n",
       "                    }\n",
       "                }\n",
       "            }, 500);\n",
       "            "
      ],
      "text/plain": [
       "<IPython.core.display.Javascript object>"
      ]
     },
     "metadata": {},
     "output_type": "display_data"
    }
   ],
   "source": [
    "%load_ext nb_black"
   ]
  },
  {
   "cell_type": "code",
   "execution_count": 2,
   "id": "4060c6d6",
   "metadata": {},
   "outputs": [
    {
     "data": {
      "application/javascript": [
       "\n",
       "            setTimeout(function() {\n",
       "                var nbb_cell_id = 2;\n",
       "                var nbb_unformatted_code = \"import os\\nimport pandas as pd\\nfrom sklearn.metrics import (\\n    average_precision_score,\\n    precision_recall_curve,\\n    roc_auc_score,\\n)\\nimport matplotlib.pyplot as plt\\nimport seaborn as sns\\nimport numpy as np\\nimport urllib.request\\nimport multiprocessing as mp\";\n",
       "                var nbb_formatted_code = \"import os\\nimport pandas as pd\\nfrom sklearn.metrics import (\\n    average_precision_score,\\n    precision_recall_curve,\\n    roc_auc_score,\\n)\\nimport matplotlib.pyplot as plt\\nimport seaborn as sns\\nimport numpy as np\\nimport urllib.request\\nimport multiprocessing as mp\";\n",
       "                var nbb_cells = Jupyter.notebook.get_cells();\n",
       "                for (var i = 0; i < nbb_cells.length; ++i) {\n",
       "                    if (nbb_cells[i].input_prompt_number == nbb_cell_id) {\n",
       "                        if (nbb_cells[i].get_text() == nbb_unformatted_code) {\n",
       "                             nbb_cells[i].set_text(nbb_formatted_code);\n",
       "                        }\n",
       "                        break;\n",
       "                    }\n",
       "                }\n",
       "            }, 500);\n",
       "            "
      ],
      "text/plain": [
       "<IPython.core.display.Javascript object>"
      ]
     },
     "metadata": {},
     "output_type": "display_data"
    }
   ],
   "source": [
    "import os\n",
    "import pandas as pd\n",
    "from sklearn.metrics import (\n",
    "    average_precision_score,\n",
    "    precision_recall_curve,\n",
    "    roc_auc_score,\n",
    ")\n",
    "import matplotlib.pyplot as plt\n",
    "import seaborn as sns\n",
    "import numpy as np\n",
    "import urllib.request\n",
    "import multiprocessing as mp\n",
    "\n",
    "from datetime import date\n",
    "today = date.today()\n",
    "today = today.strftime(\"%Y-%m-%d\")"
   ]
  },
  {
   "cell_type": "code",
   "execution_count": 3,
   "id": "3351b030",
   "metadata": {},
   "outputs": [
    {
     "data": {
      "application/javascript": [
       "\n",
       "            setTimeout(function() {\n",
       "                var nbb_cell_id = 3;\n",
       "                var nbb_unformatted_code = \"from ananse.benchmark import (\\n    read_reference,\\n    download_trrust_reference,\\n    download_msigdb_reference,\\n    validate_files,\\n    read_networks,\\n)\";\n",
       "                var nbb_formatted_code = \"from ananse.benchmark import (\\n    read_reference,\\n    download_trrust_reference,\\n    download_msigdb_reference,\\n    validate_files,\\n    read_networks,\\n)\";\n",
       "                var nbb_cells = Jupyter.notebook.get_cells();\n",
       "                for (var i = 0; i < nbb_cells.length; ++i) {\n",
       "                    if (nbb_cells[i].input_prompt_number == nbb_cell_id) {\n",
       "                        if (nbb_cells[i].get_text() == nbb_unformatted_code) {\n",
       "                             nbb_cells[i].set_text(nbb_formatted_code);\n",
       "                        }\n",
       "                        break;\n",
       "                    }\n",
       "                }\n",
       "            }, 500);\n",
       "            "
      ],
      "text/plain": [
       "<IPython.core.display.Javascript object>"
      ]
     },
     "metadata": {},
     "output_type": "display_data"
    }
   ],
   "source": [
    "from ananse.benchmark import (\n",
    "    read_reference,\n",
    "    download_trrust_reference,\n",
    "    download_msigdb_reference,\n",
    "    validate_files,\n",
    "    read_networks,\n",
    ")"
   ]
  },
  {
   "cell_type": "markdown",
   "id": "laughing-coordinate",
   "metadata": {},
   "source": [
    "# Overview\n",
    "\n",
    "This notebook contains the basic code to benchmark GRNs using a variety of references. The data is not included (due to size, licensing, etc.), but instructions are provided to download them.\n",
    "\n",
    "**Please note:** the analysis is currently not optimized and uses **a lot** of memory.\n"
   ]
  },
  {
   "cell_type": "markdown",
   "id": "7be27725",
   "metadata": {},
   "source": [
    "# Obtaining GRN reference databases\n",
    "\n",
    "We do not include the reference databases with this repository, as the license information is unclear and/or the files are big. Some can be downloaded automatically, however, some need to be downloaded by hand. \n",
    "\n",
    "## Download instructions\n",
    "\n",
    "* RegNetwork:\n",
    "\n",
    "    * Go to the following page: http://regnetworkweb.org/search.jsp, set \"Confidence\" to \"High\" and press \"Search\"\n",
    "    * Set \"Export as\" to \"CSV\", press \"Export\" and save the resulting `.csv` file.\n",
    "\n",
    "* DoRothEA:\n",
    "\n",
    "    * Download the `entire_database.rda` file from https://github.com/saezlab/dorothea/tree/master/data\n",
    "    * Convert the file using R to a tab-seperated text file.\n",
    "\n",
    "\n"
   ]
  },
  {
   "cell_type": "code",
   "execution_count": 4,
   "id": "6591bcca",
   "metadata": {},
   "outputs": [
    {
     "name": "stdout",
     "output_type": "stream",
     "text": [
      "Downloading go_net.txt.gz\n",
      "Downloading expressioncorrelation.txt.gz\n",
      "Downloading Enrichr TF perturbation reference\n",
      "Download MSigDB reference\n"
     ]
    },
    {
     "data": {
      "application/javascript": [
       "\n",
       "            setTimeout(function() {\n",
       "                var nbb_cell_id = 4;\n",
       "                var nbb_unformatted_code = \"# Downloading references that can be automatically downloaded\\n\\n# TRRUST\\nif not os.path.exists(\\\"../data/references/trrust.txt\\\"):\\n    download_trrust_reference(\\\"../data/references/trrust.txt\\\")\\n\\n# GO and Expression Correlation benchmark (see ANANSE manuscript)\\nfor fname in [\\\"go_net.txt.gz\\\", \\\"expressioncorrelation.txt.gz\\\"]:\\n    if not os.path.exists(f\\\"../data/references/{fname}\\\"):\\n        print(f\\\"Downloading {fname}\\\")\\n        urllib.request.urlretrieve(\\n            f\\\"https://zenodo.org/record/4811884/files/{fname}\\\",\\n            f\\\"../data/references/{fname}\\\",\\n        )\\n\\n# TF perturbation data from Enrichr\\nif not os.path.exists(\\\"../data/references/Enrichr_TF_perturbations.txt\\\"):\\n    print(\\\"Downloading Enrichr TF perturbation reference\\\")\\n    urllib.request.urlretrieve(\\n        \\\"https://maayanlab.cloud/Enrichr/geneSetLibrary?mode=text&libraryName=TF_Perturbations_Followed_by_Expression\\\",\\n        \\\"../data/references/Enrichr_TF_perturbations.txt\\\",\\n    )\\n    \\n# MSigDB c3\\nmsig_name = \\\"../data/references/MSigDB_c3_tft_v72.txt\\\"\\nif not os.path.exists(msig_name):\\n    print(\\\"Download MSigDB reference\\\")\\n    download_msigdb_reference(msig_name)\";\n",
       "                var nbb_formatted_code = \"# Downloading references that can be automatically downloaded\\n\\n# TRRUST\\nif not os.path.exists(\\\"../data/references/trrust.txt\\\"):\\n    download_trrust_reference(\\\"../data/references/trrust.txt\\\")\\n\\n# GO and Expression Correlation benchmark (see ANANSE manuscript)\\nfor fname in [\\\"go_net.txt.gz\\\", \\\"expressioncorrelation.txt.gz\\\"]:\\n    if not os.path.exists(f\\\"../data/references/{fname}\\\"):\\n        print(f\\\"Downloading {fname}\\\")\\n        urllib.request.urlretrieve(\\n            f\\\"https://zenodo.org/record/4811884/files/{fname}\\\",\\n            f\\\"../data/references/{fname}\\\",\\n        )\\n\\n# TF perturbation data from Enrichr\\nif not os.path.exists(\\\"../data/references/Enrichr_TF_perturbations.txt\\\"):\\n    print(\\\"Downloading Enrichr TF perturbation reference\\\")\\n    urllib.request.urlretrieve(\\n        \\\"https://maayanlab.cloud/Enrichr/geneSetLibrary?mode=text&libraryName=TF_Perturbations_Followed_by_Expression\\\",\\n        \\\"../data/references/Enrichr_TF_perturbations.txt\\\",\\n    )\\n\\n# MSigDB c3\\nmsig_name = \\\"../data/references/MSigDB_c3_tft_v72.txt\\\"\\nif not os.path.exists(msig_name):\\n    print(\\\"Download MSigDB reference\\\")\\n    download_msigdb_reference(msig_name)\";\n",
       "                var nbb_cells = Jupyter.notebook.get_cells();\n",
       "                for (var i = 0; i < nbb_cells.length; ++i) {\n",
       "                    if (nbb_cells[i].input_prompt_number == nbb_cell_id) {\n",
       "                        if (nbb_cells[i].get_text() == nbb_unformatted_code) {\n",
       "                             nbb_cells[i].set_text(nbb_formatted_code);\n",
       "                        }\n",
       "                        break;\n",
       "                    }\n",
       "                }\n",
       "            }, 500);\n",
       "            "
      ],
      "text/plain": [
       "<IPython.core.display.Javascript object>"
      ]
     },
     "metadata": {},
     "output_type": "display_data"
    }
   ],
   "source": [
    "# Downloading references that can be automatically downloaded\n",
    "\n",
    "# TRRUST\n",
    "if not os.path.exists(\"../data/references/trrust.txt\"):\n",
    "    download_trrust_reference(\"../data/references/trrust.txt\")\n",
    "\n",
    "# GO and Expression Correlation benchmark (see ANANSE manuscript)\n",
    "for fname in [\"go_net.txt.gz\", \"expressioncorrelation.txt.gz\"]:\n",
    "    if not os.path.exists(f\"../data/references/{fname}\"):\n",
    "        print(f\"Downloading {fname}\")\n",
    "        urllib.request.urlretrieve(\n",
    "            f\"https://zenodo.org/record/4811884/files/{fname}\",\n",
    "            f\"../data/references/{fname}\",\n",
    "        )\n",
    "\n",
    "# TF perturbation data from Enrichr\n",
    "if not os.path.exists(\"../data/references/Enrichr_TF_perturbations.txt\"):\n",
    "    print(\"Downloading Enrichr TF perturbation reference\")\n",
    "    urllib.request.urlretrieve(\n",
    "        \"https://maayanlab.cloud/Enrichr/geneSetLibrary?mode=text&libraryName=TF_Perturbations_Followed_by_Expression\",\n",
    "        \"../data/references/Enrichr_TF_perturbations.txt\",\n",
    "    )\n",
    "\n",
    "# MSigDB c3\n",
    "msig_name = \"../data/references/MSigDB_c3_tft_v72.txt\"\n",
    "if not os.path.exists(msig_name):\n",
    "    print(\"Downloading MSigDB reference\")\n",
    "    download_msigdb_reference(msig_name)"
   ]
  },
  {
   "cell_type": "markdown",
   "id": "departmental-antenna",
   "metadata": {},
   "source": [
    "# Obtaining GRNs to be evaluated\n",
    "\n",
    "* ANANSE networks can be downloaded from https://doi.org/10.5281/zenodo.4807801\n",
    "* GRNBoost2 networks were inferred on GTEx (see the notebook gtex_grn_with_arboreto.ipynb) and can be downloaded from https://doi.org/10.5281/zenodo.4814016\n",
    "* GRNdb networks (inferred using SCENIC on single cell data) can be downloaded from http://www.grndb.com/\n",
    "* PANDA networks (inferred on GTEx) can be downloaded from https://sites.google.com/a/channing.harvard.edu/kimberlyglass/tools/gtex-networks\n",
    "* ARACNE and corto  networks (inferred on GTEx) were originally downloaded from https://www.dropbox.com/sh/qzl8vjeoa7mqxfp/AACEfLQpAzUz7rqqEHEjMrhQa?dl=0, however, these are now deleted :("
   ]
  },
  {
   "cell_type": "markdown",
   "id": "funded-tournament",
   "metadata": {},
   "source": [
    "Define networks to use below, with `{}` where the tissue name would be:"
   ]
  },
  {
   "cell_type": "code",
   "execution_count": 21,
   "id": "forbidden-wallpaper",
   "metadata": {},
   "outputs": [
    {
     "data": {
      "application/javascript": [
       "\n",
       "            setTimeout(function() {\n",
       "                var nbb_cell_id = 21;\n",
       "                var nbb_unformatted_code = \"IN_NETWORKS = {\\n    #     \\\"GRNBoost2\\\": \\\"../data/grns/GRNBoost2/gtex.{}.grnboost2.feather\\\",\\n    #     \\\"ANANSE\\\": \\\"../data/grns/ANANSE/{}.network.txt.gz\\\",\\n    \\\"dummy\\\": \\\"../data/grns/dummy/{}.txt\\\",\\n}\";\n",
       "                var nbb_formatted_code = \"IN_NETWORKS = {\\n    #     \\\"GRNBoost2\\\": \\\"../data/grns/GRNBoost2/gtex.{}.grnboost2.feather\\\",\\n    #     \\\"ANANSE\\\": \\\"../data/grns/ANANSE/{}.network.txt.gz\\\",\\n    \\\"dummy\\\": \\\"../data/grns/dummy/{}.txt\\\",\\n}\";\n",
       "                var nbb_cells = Jupyter.notebook.get_cells();\n",
       "                for (var i = 0; i < nbb_cells.length; ++i) {\n",
       "                    if (nbb_cells[i].input_prompt_number == nbb_cell_id) {\n",
       "                        if (nbb_cells[i].get_text() == nbb_unformatted_code) {\n",
       "                             nbb_cells[i].set_text(nbb_formatted_code);\n",
       "                        }\n",
       "                        break;\n",
       "                    }\n",
       "                }\n",
       "            }, 500);\n",
       "            "
      ],
      "text/plain": [
       "<IPython.core.display.Javascript object>"
      ]
     },
     "metadata": {},
     "output_type": "display_data"
    }
   ],
   "source": [
    "IN_NETWORKS = {\n",
    "    #     \"GRNBoost2\": \"../data/grns/GRNBoost2/gtex.{}.grnboost2.feather\",\n",
    "    #     \"ANANSE\": \"../data/grns/ANANSE/{}.network.txt.gz\",\n",
    "    \"dummy\": \"../data/grns/dummy/{}.txt\",\n",
    "}"
   ]
  },
  {
   "cell_type": "code",
   "execution_count": 5,
   "id": "93a87e71",
   "metadata": {},
   "outputs": [
    {
     "name": "stderr",
     "output_type": "stream",
     "text": [
      "2021-05-26 18:57:57 | INFO | Dorothea reference - 1243 TFs, 26459 targets, 1019256 edges.\n",
      "2021-05-26 18:58:55 | INFO | TF perturbation reference - 330 TFs, 18097 targets, 231757 edges.\n",
      "2021-05-26 18:59:13 | INFO | Using 'perturb_interaction' as interaction column.\n",
      "2021-05-26 18:59:22 | INFO | Using 'interaction' as interaction column.\n",
      "2021-05-26 19:01:28 | INFO | Using 'iscorrelation' as interaction column.\n",
      "2021-05-26 19:04:11 | INFO | Using 'isgo' as interaction column.\n",
      "2021-05-26 19:04:44 | INFO | Using 'interaction' as interaction column.\n",
      "2021-05-26 19:05:38 | INFO | Using 'interaction' as interaction column.\n"
     ]
    },
    {
     "data": {
      "application/javascript": [
       "\n",
       "            setTimeout(function() {\n",
       "                var nbb_cell_id = 5;\n",
       "                var nbb_unformatted_code = \"# Read references\\ndorothea = read_reference(\\\"dorothea\\\", \\\"../data/references/entire_database.txt\\\")\\nperturb = read_reference(\\n    \\\"perturbation\\\", \\\"../data/references/Enrichr_TF_perturbations.txt\\\"\\n)\\ntrrust = read_reference(\\\"trrust\\\", \\\"../data/references/trrust.txt\\\")\\ncorr = read_reference(\\\"correlation\\\", f\\\"../data/references/expressioncorrelation.txt.gz\\\")\\ngonet = read_reference(\\\"goterm\\\", f\\\"../data/references//go_net.txt.gz\\\")\\nmsi = read_reference(\\\"msigdb\\\", msig_name)\\nregnet = read_reference(\\\"regnet\\\", \\\"../data/references/regnet_highconf.csv\\\")\";\n",
       "                var nbb_formatted_code = \"# Read references\\ndorothea = read_reference(\\\"dorothea\\\", \\\"../data/references/entire_database.txt\\\")\\nperturb = read_reference(\\n    \\\"perturbation\\\", \\\"../data/references/Enrichr_TF_perturbations.txt\\\"\\n)\\ntrrust = read_reference(\\\"trrust\\\", \\\"../data/references/trrust.txt\\\")\\ncorr = read_reference(\\\"correlation\\\", f\\\"../data/references/expressioncorrelation.txt.gz\\\")\\ngonet = read_reference(\\\"goterm\\\", f\\\"../data/references//go_net.txt.gz\\\")\\nmsi = read_reference(\\\"msigdb\\\", msig_name)\\nregnet = read_reference(\\\"regnet\\\", \\\"../data/references/regnet_highconf.csv\\\")\";\n",
       "                var nbb_cells = Jupyter.notebook.get_cells();\n",
       "                for (var i = 0; i < nbb_cells.length; ++i) {\n",
       "                    if (nbb_cells[i].input_prompt_number == nbb_cell_id) {\n",
       "                        if (nbb_cells[i].get_text() == nbb_unformatted_code) {\n",
       "                             nbb_cells[i].set_text(nbb_formatted_code);\n",
       "                        }\n",
       "                        break;\n",
       "                    }\n",
       "                }\n",
       "            }, 500);\n",
       "            "
      ],
      "text/plain": [
       "<IPython.core.display.Javascript object>"
      ]
     },
     "metadata": {},
     "output_type": "display_data"
    }
   ],
   "source": [
    "# Read references\n",
    "dorothea = read_reference(\"dorothea\", \"../data/references/entire_database.txt\")\n",
    "perturb = read_reference(\n",
    "    \"perturbation\", \"../data/references/Enrichr_TF_perturbations.txt\"\n",
    ")\n",
    "trrust = read_reference(\"trrust\", \"../data/references/trrust.txt\")\n",
    "corr = read_reference(\"correlation\", f\"../data/references/expressioncorrelation.txt.gz\")\n",
    "gonet = read_reference(\"goterm\", f\"../data/references//go_net.txt.gz\")\n",
    "msi = read_reference(\"msigdb\", msig_name)\n",
    "regnet = read_reference(\"regnet\", \"../data/references/regnet_highconf.csv\")"
   ]
  },
  {
   "cell_type": "code",
   "execution_count": 40,
   "id": "ed998ea2",
   "metadata": {},
   "outputs": [
    {
     "data": {
      "application/javascript": [
       "\n",
       "            setTimeout(function() {\n",
       "                var nbb_cell_id = 40;\n",
       "                var nbb_unformatted_code = \"# Select references for benchmark\\nreferences = [\\n    [dorothea, \\\"dorothea\\\", \\\"is_evidence_curated\\\"],\\n    [perturb, \\\"TF perturbations\\\", \\\"interaction\\\"],\\n    [trrust, \\\"TRRUST\\\", \\\"interaction\\\"],\\n    [corr, \\\"Correlation\\\", \\\"interaction\\\"],\\n    [gonet, \\\"GO Term\\\", \\\"interaction\\\"],\\n    [msi, \\\"MSigDB\\\", \\\"interaction\\\"],\\n    [regnet, \\\"regNetwork\\\", \\\"interaction\\\"],\\n]\";\n",
       "                var nbb_formatted_code = \"# Select references for benchmark\\nreferences = [\\n    [dorothea, \\\"dorothea\\\", \\\"is_evidence_curated\\\"],\\n    [perturb, \\\"TF perturbations\\\", \\\"interaction\\\"],\\n    [trrust, \\\"TRRUST\\\", \\\"interaction\\\"],\\n    [corr, \\\"Correlation\\\", \\\"interaction\\\"],\\n    [gonet, \\\"GO Term\\\", \\\"interaction\\\"],\\n    [msi, \\\"MSigDB\\\", \\\"interaction\\\"],\\n    [regnet, \\\"regNetwork\\\", \\\"interaction\\\"],\\n]\";\n",
       "                var nbb_cells = Jupyter.notebook.get_cells();\n",
       "                for (var i = 0; i < nbb_cells.length; ++i) {\n",
       "                    if (nbb_cells[i].input_prompt_number == nbb_cell_id) {\n",
       "                        if (nbb_cells[i].get_text() == nbb_unformatted_code) {\n",
       "                             nbb_cells[i].set_text(nbb_formatted_code);\n",
       "                        }\n",
       "                        break;\n",
       "                    }\n",
       "                }\n",
       "            }, 500);\n",
       "            "
      ],
      "text/plain": [
       "<IPython.core.display.Javascript object>"
      ]
     },
     "metadata": {},
     "output_type": "display_data"
    }
   ],
   "source": [
    "# Select references for benchmark\n",
    "references = [\n",
    "    [dorothea, \"dorothea\", \"is_evidence_curated\"],\n",
    "    [perturb, \"TF perturbations\", \"interaction\"],\n",
    "    [trrust, \"TRRUST\", \"interaction\"],\n",
    "    [corr, \"Correlation\", \"interaction\"],\n",
    "    [gonet, \"GO Term\", \"interaction\"],\n",
    "    [msi, \"MSigDB\", \"interaction\"],\n",
    "    [regnet, \"regNetwork\", \"interaction\"],\n",
    "]"
   ]
  },
  {
   "cell_type": "code",
   "execution_count": 36,
   "id": "3631c185",
   "metadata": {},
   "outputs": [
    {
     "data": {
      "application/javascript": [
       "\n",
       "            setTimeout(function() {\n",
       "                var nbb_cell_id = 36;\n",
       "                var nbb_unformatted_code = \"# Select tissues\\ntissues = [\\\"heart\\\"]\";\n",
       "                var nbb_formatted_code = \"# Select tissues\\ntissues = [\\\"heart\\\"]\";\n",
       "                var nbb_cells = Jupyter.notebook.get_cells();\n",
       "                for (var i = 0; i < nbb_cells.length; ++i) {\n",
       "                    if (nbb_cells[i].input_prompt_number == nbb_cell_id) {\n",
       "                        if (nbb_cells[i].get_text() == nbb_unformatted_code) {\n",
       "                             nbb_cells[i].set_text(nbb_formatted_code);\n",
       "                        }\n",
       "                        break;\n",
       "                    }\n",
       "                }\n",
       "            }, 500);\n",
       "            "
      ],
      "text/plain": [
       "<IPython.core.display.Javascript object>"
      ]
     },
     "metadata": {},
     "output_type": "display_data"
    }
   ],
   "source": [
    "# Select tissues\n",
    "tissues = [\"heart\"]"
   ]
  },
  {
   "cell_type": "code",
   "execution_count": 37,
   "id": "55b90dcd",
   "metadata": {},
   "outputs": [
    {
     "data": {
      "application/javascript": [
       "\n",
       "            setTimeout(function() {\n",
       "                var nbb_cell_id = 37;\n",
       "                var nbb_unformatted_code = \"def run_tissue(tissue):\\n    benchmark = []\\n    in_networks = {k: v.format(tissue) for k, v in IN_NETWORKS.items()}\\n\\n    validate_files(in_networks.values(), ignore_missing=True)\\n\\n    c = read_networks(in_networks)\\n    for network, name, ref_col in references:\\n        cols = c.columns\\n        test = network.join(c)\\n        test[network.columns.tolist()] = test[network.columns.tolist()].fillna(0)\\n        test = test.fillna(-100)\\n\\n        print(f\\\"{name}\\\\t{tissue}\\\\tbaseline\\\\t{test[ref_col].mean():0.5f}\\\")\\n        benchmark.append([name, tissue, \\\"baseline\\\", test[ref_col].mean(), 0.5])\\n        for col in cols:\\n            pr_auc = average_precision_score(test[ref_col], test[col])\\n            roc_auc = roc_auc_score(test[ref_col], test[col])\\n            print(f\\\"{name}\\\\t{tissue}\\\\t{col}\\\\t{pr_auc:0.5f}\\\")\\n            benchmark.append([name, tissue, col, pr_auc, roc_auc])\\n    return benchmark\";\n",
       "                var nbb_formatted_code = \"def run_tissue(tissue):\\n    benchmark = []\\n    in_networks = {k: v.format(tissue) for k, v in IN_NETWORKS.items()}\\n\\n    validate_files(in_networks.values(), ignore_missing=True)\\n\\n    c = read_networks(in_networks)\\n    for network, name, ref_col in references:\\n        cols = c.columns\\n        test = network.join(c)\\n        test[network.columns.tolist()] = test[network.columns.tolist()].fillna(0)\\n        test = test.fillna(-100)\\n\\n        print(f\\\"{name}\\\\t{tissue}\\\\tbaseline\\\\t{test[ref_col].mean():0.5f}\\\")\\n        benchmark.append([name, tissue, \\\"baseline\\\", test[ref_col].mean(), 0.5])\\n        for col in cols:\\n            pr_auc = average_precision_score(test[ref_col], test[col])\\n            roc_auc = roc_auc_score(test[ref_col], test[col])\\n            print(f\\\"{name}\\\\t{tissue}\\\\t{col}\\\\t{pr_auc:0.5f}\\\")\\n            benchmark.append([name, tissue, col, pr_auc, roc_auc])\\n    return benchmark\";\n",
       "                var nbb_cells = Jupyter.notebook.get_cells();\n",
       "                for (var i = 0; i < nbb_cells.length; ++i) {\n",
       "                    if (nbb_cells[i].input_prompt_number == nbb_cell_id) {\n",
       "                        if (nbb_cells[i].get_text() == nbb_unformatted_code) {\n",
       "                             nbb_cells[i].set_text(nbb_formatted_code);\n",
       "                        }\n",
       "                        break;\n",
       "                    }\n",
       "                }\n",
       "            }, 500);\n",
       "            "
      ],
      "text/plain": [
       "<IPython.core.display.Javascript object>"
      ]
     },
     "metadata": {},
     "output_type": "display_data"
    }
   ],
   "source": [
    "def run_tissue(tissue):\n",
    "    benchmark = []\n",
    "    in_networks = {k: v.format(tissue) for k, v in IN_NETWORKS.items()}\n",
    "\n",
    "    validate_files(in_networks.values(), ignore_missing=True)\n",
    "\n",
    "    c = read_networks(in_networks)\n",
    "    for network, name, ref_col in references:\n",
    "        cols = c.columns\n",
    "        test = network.join(c)\n",
    "        test[network.columns.tolist()] = test[network.columns.tolist()].fillna(0)\n",
    "        test = test.fillna(-100)\n",
    "\n",
    "        print(f\"{name}\\t{tissue}\\tbaseline\\t{test[ref_col].mean():0.5f}\")\n",
    "        benchmark.append([name, tissue, \"baseline\", test[ref_col].mean(), 0.5])\n",
    "        for col in cols:\n",
    "            pr_auc = average_precision_score(test[ref_col], test[col])\n",
    "            roc_auc = roc_auc_score(test[ref_col], test[col])\n",
    "            print(f\"{name}\\t{tissue}\\t{col}\\t{pr_auc:0.5f}\")\n",
    "            benchmark.append([name, tissue, col, pr_auc, roc_auc])\n",
    "    return benchmark"
   ]
  },
  {
   "cell_type": "code",
   "execution_count": 38,
   "id": "contained-brother",
   "metadata": {},
   "outputs": [
    {
     "data": {
      "application/javascript": [
       "\n",
       "            setTimeout(function() {\n",
       "                var nbb_cell_id = 38;\n",
       "                var nbb_unformatted_code = \"OUTFILE = f\\\"{today}.benchmark_grns.txt\\\"\";\n",
       "                var nbb_formatted_code = \"OUTFILE = f\\\"{today}.benchmark_grns.txt\\\"\";\n",
       "                var nbb_cells = Jupyter.notebook.get_cells();\n",
       "                for (var i = 0; i < nbb_cells.length; ++i) {\n",
       "                    if (nbb_cells[i].input_prompt_number == nbb_cell_id) {\n",
       "                        if (nbb_cells[i].get_text() == nbb_unformatted_code) {\n",
       "                             nbb_cells[i].set_text(nbb_formatted_code);\n",
       "                        }\n",
       "                        break;\n",
       "                    }\n",
       "                }\n",
       "            }, 500);\n",
       "            "
      ],
      "text/plain": [
       "<IPython.core.display.Javascript object>"
      ]
     },
     "metadata": {},
     "output_type": "display_data"
    }
   ],
   "source": [
    "OUTFILE = f\"{today}.benchmark_grns.txt\""
   ]
  },
  {
   "cell_type": "code",
   "execution_count": 39,
   "id": "97267a7d",
   "metadata": {},
   "outputs": [
    {
     "name": "stderr",
     "output_type": "stream",
     "text": [
      "2021-05-26 20:11:23 | INFO | Reading dummy\n",
      "2021-05-26 20:11:23 | INFO | Merging dummy\n"
     ]
    },
    {
     "name": "stdout",
     "output_type": "stream",
     "text": [
      "TF perturbations\theart\tbaseline\t0.03259\n",
      "TF perturbations\theart\tdummy\t0.03544\n",
      "regNetwork\theart\tbaseline\t0.01042\n",
      "regNetwork\theart\tdummy\t0.01139\n"
     ]
    },
    {
     "data": {
      "application/javascript": [
       "\n",
       "            setTimeout(function() {\n",
       "                var nbb_cell_id = 39;\n",
       "                var nbb_unformatted_code = \"pool = mp.Pool(2)  # increase for lower run-time but higher memory use\\njobs = []\\n\\nfor tissue in tissues:\\n    jobs.append(pool.apply_async(run_tissue, (tissue,)))\\n\\nresultdic = {}\\nfor tissue, j in zip(tissues, jobs):\\n    resultdic[tissue] = j.get()\\n\\nwith open(OUTFILE, \\\"w\\\") as fl:\\n    fl.write(\\\"reference\\\\ttissue\\\\tnetwork\\\\tpr_auc\\\\troc_auc\\\\n\\\")\\n    for tissue, j in zip(tissues, jobs):\\n        resultdic[tissue] = j.get()\\n        for jj in resultdic[tissue]:\\n            for k in jj:\\n                fl.write(f\\\"{k}\\\\t\\\")\\n            fl.write(\\\"\\\\n\\\")\\n\\npool.close()\";\n",
       "                var nbb_formatted_code = \"pool = mp.Pool(2)  # increase for lower run-time but higher memory use\\njobs = []\\n\\nfor tissue in tissues:\\n    jobs.append(pool.apply_async(run_tissue, (tissue,)))\\n\\nresultdic = {}\\nfor tissue, j in zip(tissues, jobs):\\n    resultdic[tissue] = j.get()\\n\\nwith open(OUTFILE, \\\"w\\\") as fl:\\n    fl.write(\\\"reference\\\\ttissue\\\\tnetwork\\\\tpr_auc\\\\troc_auc\\\\n\\\")\\n    for tissue, j in zip(tissues, jobs):\\n        resultdic[tissue] = j.get()\\n        for jj in resultdic[tissue]:\\n            for k in jj:\\n                fl.write(f\\\"{k}\\\\t\\\")\\n            fl.write(\\\"\\\\n\\\")\\n\\npool.close()\";\n",
       "                var nbb_cells = Jupyter.notebook.get_cells();\n",
       "                for (var i = 0; i < nbb_cells.length; ++i) {\n",
       "                    if (nbb_cells[i].input_prompt_number == nbb_cell_id) {\n",
       "                        if (nbb_cells[i].get_text() == nbb_unformatted_code) {\n",
       "                             nbb_cells[i].set_text(nbb_formatted_code);\n",
       "                        }\n",
       "                        break;\n",
       "                    }\n",
       "                }\n",
       "            }, 500);\n",
       "            "
      ],
      "text/plain": [
       "<IPython.core.display.Javascript object>"
      ]
     },
     "metadata": {},
     "output_type": "display_data"
    }
   ],
   "source": [
    "pool = mp.Pool(2)  # increase for lower run-time but higher memory use\n",
    "jobs = []\n",
    "\n",
    "for tissue in tissues:\n",
    "    jobs.append(pool.apply_async(run_tissue, (tissue,)))\n",
    "\n",
    "resultdic = {}\n",
    "for tissue, j in zip(tissues, jobs):\n",
    "    resultdic[tissue] = j.get()\n",
    "\n",
    "with open(OUTFILE, \"w\") as fl:\n",
    "    fl.write(\"reference\\ttissue\\tnetwork\\tpr_auc\\troc_auc\\n\")\n",
    "    for tissue, j in zip(tissues, jobs):\n",
    "        resultdic[tissue] = j.get()\n",
    "        for jj in resultdic[tissue]:\n",
    "            for k in jj:\n",
    "                fl.write(f\"{k}\\t\")\n",
    "            fl.write(\"\\n\")\n",
    "\n",
    "pool.close()"
   ]
  },
  {
   "cell_type": "code",
   "execution_count": 41,
   "id": "37e8822a",
   "metadata": {},
   "outputs": [
    {
     "name": "stdout",
     "output_type": "stream",
     "text": [
      "reference\ttissue\tnetwork\tpr_auc\troc_auc\r\n",
      "TF perturbations\theart\tbaseline\t0.0325910779691319\t0.5\t\r\n",
      "TF perturbations\theart\tdummy\t0.035439892613548706\t0.5129310675696458\t\r\n",
      "regNetwork\theart\tbaseline\t0.010416915057491547\t0.5\t\r\n",
      "regNetwork\theart\tdummy\t0.011394647878809746\t0.5148571158434503\t\r\n"
     ]
    },
    {
     "data": {
      "application/javascript": [
       "\n",
       "            setTimeout(function() {\n",
       "                var nbb_cell_id = 41;\n",
       "                var nbb_unformatted_code = \"!cat {OUTFILE}\";\n",
       "                var nbb_formatted_code = \"!cat {OUTFILE}\";\n",
       "                var nbb_cells = Jupyter.notebook.get_cells();\n",
       "                for (var i = 0; i < nbb_cells.length; ++i) {\n",
       "                    if (nbb_cells[i].input_prompt_number == nbb_cell_id) {\n",
       "                        if (nbb_cells[i].get_text() == nbb_unformatted_code) {\n",
       "                             nbb_cells[i].set_text(nbb_formatted_code);\n",
       "                        }\n",
       "                        break;\n",
       "                    }\n",
       "                }\n",
       "            }, 500);\n",
       "            "
      ],
      "text/plain": [
       "<IPython.core.display.Javascript object>"
      ]
     },
     "metadata": {},
     "output_type": "display_data"
    }
   ],
   "source": [
    "!cat {OUTFILE}"
   ]
  },
  {
   "cell_type": "code",
   "execution_count": null,
   "id": "modular-employee",
   "metadata": {},
   "outputs": [],
   "source": []
  }
 ],
 "metadata": {
  "kernelspec": {
   "display_name": "Python [conda env:ananse_dev]",
   "language": "python",
   "name": "conda-env-ananse_dev-py"
  },
  "language_info": {
   "codemirror_mode": {
    "name": "ipython",
    "version": 3
   },
   "file_extension": ".py",
   "mimetype": "text/x-python",
   "name": "python",
   "nbconvert_exporter": "python",
   "pygments_lexer": "ipython3",
   "version": "3.8.6"
  }
 },
 "nbformat": 4,
 "nbformat_minor": 5
}
